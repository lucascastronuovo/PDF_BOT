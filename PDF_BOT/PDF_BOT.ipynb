{
 "cells": [
  {
   "cell_type": "code",
   "execution_count": 1,
   "id": "9c93db0e-dcce-43a7-b769-487c6277534c",
   "metadata": {},
   "outputs": [
    {
     "name": "stdout",
     "output_type": "stream",
     "text": [
      "Requirement already satisfied: pip in d:\\lucas\\conda_envs\\entorno_chatbot\\lib\\site-packages (25.2)\n",
      "Requirement already satisfied: PyPDF2 in d:\\lucas\\conda_envs\\entorno_chatbot\\lib\\site-packages (3.0.1)\n",
      "Requirement already satisfied: langchain in d:\\lucas\\conda_envs\\entorno_chatbot\\lib\\site-packages (0.3.27)\n",
      "Requirement already satisfied: sentence-transformers in d:\\lucas\\conda_envs\\entorno_chatbot\\lib\\site-packages (5.1.0)\n",
      "Requirement already satisfied: chromadb in d:\\lucas\\conda_envs\\entorno_chatbot\\lib\\site-packages (1.0.16)\n",
      "Requirement already satisfied: ollama in d:\\lucas\\conda_envs\\entorno_chatbot\\lib\\site-packages (0.5.3)\n",
      "Requirement already satisfied: langchain-core<1.0.0,>=0.3.72 in d:\\lucas\\conda_envs\\entorno_chatbot\\lib\\site-packages (from langchain) (0.3.74)\n",
      "Requirement already satisfied: langchain-text-splitters<1.0.0,>=0.3.9 in d:\\lucas\\conda_envs\\entorno_chatbot\\lib\\site-packages (from langchain) (0.3.9)\n",
      "Requirement already satisfied: langsmith>=0.1.17 in d:\\lucas\\conda_envs\\entorno_chatbot\\lib\\site-packages (from langchain) (0.4.14)\n",
      "Requirement already satisfied: pydantic<3.0.0,>=2.7.4 in d:\\lucas\\conda_envs\\entorno_chatbot\\lib\\site-packages (from langchain) (2.11.7)\n",
      "Requirement already satisfied: SQLAlchemy<3,>=1.4 in d:\\lucas\\conda_envs\\entorno_chatbot\\lib\\site-packages (from langchain) (2.0.43)\n",
      "Requirement already satisfied: requests<3,>=2 in d:\\lucas\\conda_envs\\entorno_chatbot\\lib\\site-packages (from langchain) (2.32.4)\n",
      "Requirement already satisfied: PyYAML>=5.3 in d:\\lucas\\conda_envs\\entorno_chatbot\\lib\\site-packages (from langchain) (6.0.2)\n",
      "Requirement already satisfied: async-timeout<5.0.0,>=4.0.0 in d:\\lucas\\conda_envs\\entorno_chatbot\\lib\\site-packages (from langchain) (4.0.3)\n",
      "Requirement already satisfied: tenacity!=8.4.0,<10.0.0,>=8.1.0 in d:\\lucas\\conda_envs\\entorno_chatbot\\lib\\site-packages (from langchain-core<1.0.0,>=0.3.72->langchain) (9.1.2)\n",
      "Requirement already satisfied: jsonpatch<2.0,>=1.33 in d:\\lucas\\conda_envs\\entorno_chatbot\\lib\\site-packages (from langchain-core<1.0.0,>=0.3.72->langchain) (1.33)\n",
      "Requirement already satisfied: typing-extensions>=4.7 in d:\\lucas\\conda_envs\\entorno_chatbot\\lib\\site-packages (from langchain-core<1.0.0,>=0.3.72->langchain) (4.12.2)\n",
      "Requirement already satisfied: packaging>=23.2 in d:\\lucas\\conda_envs\\entorno_chatbot\\lib\\site-packages (from langchain-core<1.0.0,>=0.3.72->langchain) (25.0)\n",
      "Requirement already satisfied: jsonpointer>=1.9 in d:\\lucas\\conda_envs\\entorno_chatbot\\lib\\site-packages (from jsonpatch<2.0,>=1.33->langchain-core<1.0.0,>=0.3.72->langchain) (3.0.0)\n",
      "Requirement already satisfied: annotated-types>=0.6.0 in d:\\lucas\\conda_envs\\entorno_chatbot\\lib\\site-packages (from pydantic<3.0.0,>=2.7.4->langchain) (0.7.0)\n",
      "Requirement already satisfied: pydantic-core==2.33.2 in d:\\lucas\\conda_envs\\entorno_chatbot\\lib\\site-packages (from pydantic<3.0.0,>=2.7.4->langchain) (2.33.2)\n",
      "Requirement already satisfied: typing-inspection>=0.4.0 in d:\\lucas\\conda_envs\\entorno_chatbot\\lib\\site-packages (from pydantic<3.0.0,>=2.7.4->langchain) (0.4.1)\n",
      "Requirement already satisfied: charset_normalizer<4,>=2 in d:\\lucas\\conda_envs\\entorno_chatbot\\lib\\site-packages (from requests<3,>=2->langchain) (3.3.2)\n",
      "Requirement already satisfied: idna<4,>=2.5 in d:\\lucas\\conda_envs\\entorno_chatbot\\lib\\site-packages (from requests<3,>=2->langchain) (3.7)\n",
      "Requirement already satisfied: urllib3<3,>=1.21.1 in d:\\lucas\\conda_envs\\entorno_chatbot\\lib\\site-packages (from requests<3,>=2->langchain) (2.5.0)\n",
      "Requirement already satisfied: certifi>=2017.4.17 in d:\\lucas\\conda_envs\\entorno_chatbot\\lib\\site-packages (from requests<3,>=2->langchain) (2025.8.3)\n",
      "Requirement already satisfied: greenlet>=1 in d:\\lucas\\conda_envs\\entorno_chatbot\\lib\\site-packages (from SQLAlchemy<3,>=1.4->langchain) (3.2.4)\n",
      "Requirement already satisfied: transformers<5.0.0,>=4.41.0 in d:\\lucas\\conda_envs\\entorno_chatbot\\lib\\site-packages (from sentence-transformers) (4.55.2)\n",
      "Requirement already satisfied: tqdm in d:\\lucas\\conda_envs\\entorno_chatbot\\lib\\site-packages (from sentence-transformers) (4.67.1)\n",
      "Requirement already satisfied: torch>=1.11.0 in d:\\lucas\\conda_envs\\entorno_chatbot\\lib\\site-packages (from sentence-transformers) (2.8.0)\n",
      "Requirement already satisfied: scikit-learn in d:\\lucas\\conda_envs\\entorno_chatbot\\lib\\site-packages (from sentence-transformers) (1.7.1)\n",
      "Requirement already satisfied: scipy in d:\\lucas\\conda_envs\\entorno_chatbot\\lib\\site-packages (from sentence-transformers) (1.15.3)\n",
      "Requirement already satisfied: huggingface-hub>=0.20.0 in d:\\lucas\\conda_envs\\entorno_chatbot\\lib\\site-packages (from sentence-transformers) (0.34.4)\n",
      "Requirement already satisfied: Pillow in d:\\lucas\\conda_envs\\entorno_chatbot\\lib\\site-packages (from sentence-transformers) (11.3.0)\n",
      "Requirement already satisfied: filelock in d:\\lucas\\conda_envs\\entorno_chatbot\\lib\\site-packages (from transformers<5.0.0,>=4.41.0->sentence-transformers) (3.18.0)\n",
      "Requirement already satisfied: numpy>=1.17 in d:\\lucas\\conda_envs\\entorno_chatbot\\lib\\site-packages (from transformers<5.0.0,>=4.41.0->sentence-transformers) (2.2.6)\n",
      "Requirement already satisfied: regex!=2019.12.17 in d:\\lucas\\conda_envs\\entorno_chatbot\\lib\\site-packages (from transformers<5.0.0,>=4.41.0->sentence-transformers) (2025.7.34)\n",
      "Requirement already satisfied: tokenizers<0.22,>=0.21 in d:\\lucas\\conda_envs\\entorno_chatbot\\lib\\site-packages (from transformers<5.0.0,>=4.41.0->sentence-transformers) (0.21.4)\n",
      "Requirement already satisfied: safetensors>=0.4.3 in d:\\lucas\\conda_envs\\entorno_chatbot\\lib\\site-packages (from transformers<5.0.0,>=4.41.0->sentence-transformers) (0.6.2)\n",
      "Requirement already satisfied: fsspec>=2023.5.0 in d:\\lucas\\conda_envs\\entorno_chatbot\\lib\\site-packages (from huggingface-hub>=0.20.0->sentence-transformers) (2025.7.0)\n",
      "Requirement already satisfied: build>=1.0.3 in d:\\lucas\\conda_envs\\entorno_chatbot\\lib\\site-packages (from chromadb) (1.3.0)\n",
      "Requirement already satisfied: pybase64>=1.4.1 in d:\\lucas\\conda_envs\\entorno_chatbot\\lib\\site-packages (from chromadb) (1.4.2)\n",
      "Requirement already satisfied: uvicorn>=0.18.3 in d:\\lucas\\conda_envs\\entorno_chatbot\\lib\\site-packages (from uvicorn[standard]>=0.18.3->chromadb) (0.35.0)\n",
      "Requirement already satisfied: posthog<6.0.0,>=2.4.0 in d:\\lucas\\conda_envs\\entorno_chatbot\\lib\\site-packages (from chromadb) (5.4.0)\n",
      "Requirement already satisfied: onnxruntime>=1.14.1 in d:\\lucas\\conda_envs\\entorno_chatbot\\lib\\site-packages (from chromadb) (1.22.1)\n",
      "Requirement already satisfied: opentelemetry-api>=1.2.0 in d:\\lucas\\conda_envs\\entorno_chatbot\\lib\\site-packages (from chromadb) (1.36.0)\n",
      "Requirement already satisfied: opentelemetry-exporter-otlp-proto-grpc>=1.2.0 in d:\\lucas\\conda_envs\\entorno_chatbot\\lib\\site-packages (from chromadb) (1.36.0)\n",
      "Requirement already satisfied: opentelemetry-sdk>=1.2.0 in d:\\lucas\\conda_envs\\entorno_chatbot\\lib\\site-packages (from chromadb) (1.36.0)\n",
      "Requirement already satisfied: pypika>=0.48.9 in d:\\lucas\\conda_envs\\entorno_chatbot\\lib\\site-packages (from chromadb) (0.48.9)\n",
      "Requirement already satisfied: overrides>=7.3.1 in d:\\lucas\\conda_envs\\entorno_chatbot\\lib\\site-packages (from chromadb) (7.4.0)\n",
      "Requirement already satisfied: importlib-resources in d:\\lucas\\conda_envs\\entorno_chatbot\\lib\\site-packages (from chromadb) (6.5.2)\n",
      "Requirement already satisfied: grpcio>=1.58.0 in d:\\lucas\\conda_envs\\entorno_chatbot\\lib\\site-packages (from chromadb) (1.74.0)\n",
      "Requirement already satisfied: bcrypt>=4.0.1 in d:\\lucas\\conda_envs\\entorno_chatbot\\lib\\site-packages (from chromadb) (4.3.0)\n",
      "Requirement already satisfied: typer>=0.9.0 in d:\\lucas\\conda_envs\\entorno_chatbot\\lib\\site-packages (from chromadb) (0.16.0)\n",
      "Requirement already satisfied: kubernetes>=28.1.0 in d:\\lucas\\conda_envs\\entorno_chatbot\\lib\\site-packages (from chromadb) (33.1.0)\n",
      "Requirement already satisfied: mmh3>=4.0.1 in d:\\lucas\\conda_envs\\entorno_chatbot\\lib\\site-packages (from chromadb) (5.2.0)\n",
      "Requirement already satisfied: orjson>=3.9.12 in d:\\lucas\\conda_envs\\entorno_chatbot\\lib\\site-packages (from chromadb) (3.11.2)\n",
      "Requirement already satisfied: httpx>=0.27.0 in d:\\lucas\\conda_envs\\entorno_chatbot\\lib\\site-packages (from chromadb) (0.28.1)\n",
      "Requirement already satisfied: rich>=10.11.0 in d:\\lucas\\conda_envs\\entorno_chatbot\\lib\\site-packages (from chromadb) (14.1.0)\n",
      "Requirement already satisfied: jsonschema>=4.19.0 in d:\\lucas\\conda_envs\\entorno_chatbot\\lib\\site-packages (from chromadb) (4.25.0)\n",
      "Requirement already satisfied: six>=1.5 in d:\\lucas\\conda_envs\\entorno_chatbot\\lib\\site-packages (from posthog<6.0.0,>=2.4.0->chromadb) (1.17.0)\n",
      "Requirement already satisfied: python-dateutil>=2.2 in d:\\lucas\\conda_envs\\entorno_chatbot\\lib\\site-packages (from posthog<6.0.0,>=2.4.0->chromadb) (2.9.0.post0)\n",
      "Requirement already satisfied: backoff>=1.10.0 in d:\\lucas\\conda_envs\\entorno_chatbot\\lib\\site-packages (from posthog<6.0.0,>=2.4.0->chromadb) (2.2.1)\n",
      "Requirement already satisfied: distro>=1.5.0 in d:\\lucas\\conda_envs\\entorno_chatbot\\lib\\site-packages (from posthog<6.0.0,>=2.4.0->chromadb) (1.9.0)\n",
      "Requirement already satisfied: pyproject_hooks in d:\\lucas\\conda_envs\\entorno_chatbot\\lib\\site-packages (from build>=1.0.3->chromadb) (1.2.0)\n",
      "Requirement already satisfied: colorama in d:\\lucas\\conda_envs\\entorno_chatbot\\lib\\site-packages (from build>=1.0.3->chromadb) (0.4.6)\n",
      "Requirement already satisfied: tomli>=1.1.0 in d:\\lucas\\conda_envs\\entorno_chatbot\\lib\\site-packages (from build>=1.0.3->chromadb) (2.2.1)\n",
      "Requirement already satisfied: anyio in d:\\lucas\\conda_envs\\entorno_chatbot\\lib\\site-packages (from httpx>=0.27.0->chromadb) (4.7.0)\n",
      "Requirement already satisfied: httpcore==1.* in d:\\lucas\\conda_envs\\entorno_chatbot\\lib\\site-packages (from httpx>=0.27.0->chromadb) (1.0.9)\n",
      "Requirement already satisfied: h11>=0.16 in d:\\lucas\\conda_envs\\entorno_chatbot\\lib\\site-packages (from httpcore==1.*->httpx>=0.27.0->chromadb) (0.16.0)\n",
      "Requirement already satisfied: attrs>=22.2.0 in d:\\lucas\\conda_envs\\entorno_chatbot\\lib\\site-packages (from jsonschema>=4.19.0->chromadb) (24.3.0)\n",
      "Requirement already satisfied: jsonschema-specifications>=2023.03.6 in d:\\lucas\\conda_envs\\entorno_chatbot\\lib\\site-packages (from jsonschema>=4.19.0->chromadb) (2023.7.1)\n",
      "Requirement already satisfied: referencing>=0.28.4 in d:\\lucas\\conda_envs\\entorno_chatbot\\lib\\site-packages (from jsonschema>=4.19.0->chromadb) (0.30.2)\n",
      "Requirement already satisfied: rpds-py>=0.7.1 in d:\\lucas\\conda_envs\\entorno_chatbot\\lib\\site-packages (from jsonschema>=4.19.0->chromadb) (0.22.3)\n",
      "Requirement already satisfied: google-auth>=1.0.1 in d:\\lucas\\conda_envs\\entorno_chatbot\\lib\\site-packages (from kubernetes>=28.1.0->chromadb) (2.40.3)\n",
      "Requirement already satisfied: websocket-client!=0.40.0,!=0.41.*,!=0.42.*,>=0.32.0 in d:\\lucas\\conda_envs\\entorno_chatbot\\lib\\site-packages (from kubernetes>=28.1.0->chromadb) (1.8.0)\n",
      "Requirement already satisfied: requests-oauthlib in d:\\lucas\\conda_envs\\entorno_chatbot\\lib\\site-packages (from kubernetes>=28.1.0->chromadb) (2.0.0)\n",
      "Requirement already satisfied: oauthlib>=3.2.2 in d:\\lucas\\conda_envs\\entorno_chatbot\\lib\\site-packages (from kubernetes>=28.1.0->chromadb) (3.3.1)\n",
      "Requirement already satisfied: durationpy>=0.7 in d:\\lucas\\conda_envs\\entorno_chatbot\\lib\\site-packages (from kubernetes>=28.1.0->chromadb) (0.10)\n",
      "Requirement already satisfied: cachetools<6.0,>=2.0.0 in d:\\lucas\\conda_envs\\entorno_chatbot\\lib\\site-packages (from google-auth>=1.0.1->kubernetes>=28.1.0->chromadb) (5.5.2)\n",
      "Requirement already satisfied: pyasn1-modules>=0.2.1 in d:\\lucas\\conda_envs\\entorno_chatbot\\lib\\site-packages (from google-auth>=1.0.1->kubernetes>=28.1.0->chromadb) (0.4.2)\n",
      "Requirement already satisfied: rsa<5,>=3.1.4 in d:\\lucas\\conda_envs\\entorno_chatbot\\lib\\site-packages (from google-auth>=1.0.1->kubernetes>=28.1.0->chromadb) (4.9.1)\n",
      "Requirement already satisfied: pyasn1>=0.1.3 in d:\\lucas\\conda_envs\\entorno_chatbot\\lib\\site-packages (from rsa<5,>=3.1.4->google-auth>=1.0.1->kubernetes>=28.1.0->chromadb) (0.6.1)\n",
      "Requirement already satisfied: requests-toolbelt>=1.0.0 in d:\\lucas\\conda_envs\\entorno_chatbot\\lib\\site-packages (from langsmith>=0.1.17->langchain) (1.0.0)\n",
      "Requirement already satisfied: zstandard>=0.23.0 in d:\\lucas\\conda_envs\\entorno_chatbot\\lib\\site-packages (from langsmith>=0.1.17->langchain) (0.23.0)\n",
      "Requirement already satisfied: coloredlogs in d:\\lucas\\conda_envs\\entorno_chatbot\\lib\\site-packages (from onnxruntime>=1.14.1->chromadb) (15.0.1)\n",
      "Requirement already satisfied: flatbuffers in d:\\lucas\\conda_envs\\entorno_chatbot\\lib\\site-packages (from onnxruntime>=1.14.1->chromadb) (25.2.10)\n",
      "Requirement already satisfied: protobuf in d:\\lucas\\conda_envs\\entorno_chatbot\\lib\\site-packages (from onnxruntime>=1.14.1->chromadb) (6.31.1)\n",
      "Requirement already satisfied: sympy in d:\\lucas\\conda_envs\\entorno_chatbot\\lib\\site-packages (from onnxruntime>=1.14.1->chromadb) (1.14.0)\n",
      "Requirement already satisfied: importlib-metadata<8.8.0,>=6.0 in d:\\lucas\\conda_envs\\entorno_chatbot\\lib\\site-packages (from opentelemetry-api>=1.2.0->chromadb) (8.7.0)\n",
      "Requirement already satisfied: zipp>=3.20 in d:\\lucas\\conda_envs\\entorno_chatbot\\lib\\site-packages (from importlib-metadata<8.8.0,>=6.0->opentelemetry-api>=1.2.0->chromadb) (3.23.0)\n",
      "Requirement already satisfied: googleapis-common-protos~=1.57 in d:\\lucas\\conda_envs\\entorno_chatbot\\lib\\site-packages (from opentelemetry-exporter-otlp-proto-grpc>=1.2.0->chromadb) (1.70.0)\n",
      "Requirement already satisfied: opentelemetry-exporter-otlp-proto-common==1.36.0 in d:\\lucas\\conda_envs\\entorno_chatbot\\lib\\site-packages (from opentelemetry-exporter-otlp-proto-grpc>=1.2.0->chromadb) (1.36.0)\n",
      "Requirement already satisfied: opentelemetry-proto==1.36.0 in d:\\lucas\\conda_envs\\entorno_chatbot\\lib\\site-packages (from opentelemetry-exporter-otlp-proto-grpc>=1.2.0->chromadb) (1.36.0)\n",
      "Requirement already satisfied: opentelemetry-semantic-conventions==0.57b0 in d:\\lucas\\conda_envs\\entorno_chatbot\\lib\\site-packages (from opentelemetry-sdk>=1.2.0->chromadb) (0.57b0)\n",
      "Requirement already satisfied: markdown-it-py>=2.2.0 in d:\\lucas\\conda_envs\\entorno_chatbot\\lib\\site-packages (from rich>=10.11.0->chromadb) (4.0.0)\n",
      "Requirement already satisfied: pygments<3.0.0,>=2.13.0 in d:\\lucas\\conda_envs\\entorno_chatbot\\lib\\site-packages (from rich>=10.11.0->chromadb) (2.19.1)\n",
      "Requirement already satisfied: mdurl~=0.1 in d:\\lucas\\conda_envs\\entorno_chatbot\\lib\\site-packages (from markdown-it-py>=2.2.0->rich>=10.11.0->chromadb) (0.1.2)\n",
      "Requirement already satisfied: networkx in d:\\lucas\\conda_envs\\entorno_chatbot\\lib\\site-packages (from torch>=1.11.0->sentence-transformers) (3.4.2)\n",
      "Requirement already satisfied: jinja2 in d:\\lucas\\conda_envs\\entorno_chatbot\\lib\\site-packages (from torch>=1.11.0->sentence-transformers) (3.1.6)\n",
      "Requirement already satisfied: mpmath<1.4,>=1.1.0 in d:\\lucas\\conda_envs\\entorno_chatbot\\lib\\site-packages (from sympy->onnxruntime>=1.14.1->chromadb) (1.3.0)\n",
      "Requirement already satisfied: click>=8.0.0 in d:\\lucas\\conda_envs\\entorno_chatbot\\lib\\site-packages (from typer>=0.9.0->chromadb) (8.2.1)\n",
      "Requirement already satisfied: shellingham>=1.3.0 in d:\\lucas\\conda_envs\\entorno_chatbot\\lib\\site-packages (from typer>=0.9.0->chromadb) (1.5.4)\n",
      "Requirement already satisfied: httptools>=0.6.3 in d:\\lucas\\conda_envs\\entorno_chatbot\\lib\\site-packages (from uvicorn[standard]>=0.18.3->chromadb) (0.6.4)\n",
      "Requirement already satisfied: python-dotenv>=0.13 in d:\\lucas\\conda_envs\\entorno_chatbot\\lib\\site-packages (from uvicorn[standard]>=0.18.3->chromadb) (1.1.1)\n",
      "Requirement already satisfied: watchfiles>=0.13 in d:\\lucas\\conda_envs\\entorno_chatbot\\lib\\site-packages (from uvicorn[standard]>=0.18.3->chromadb) (1.1.0)\n",
      "Requirement already satisfied: websockets>=10.4 in d:\\lucas\\conda_envs\\entorno_chatbot\\lib\\site-packages (from uvicorn[standard]>=0.18.3->chromadb) (15.0.1)\n",
      "Requirement already satisfied: exceptiongroup>=1.0.2 in d:\\lucas\\conda_envs\\entorno_chatbot\\lib\\site-packages (from anyio->httpx>=0.27.0->chromadb) (1.2.0)\n",
      "Requirement already satisfied: sniffio>=1.1 in d:\\lucas\\conda_envs\\entorno_chatbot\\lib\\site-packages (from anyio->httpx>=0.27.0->chromadb) (1.3.0)\n",
      "Requirement already satisfied: humanfriendly>=9.1 in d:\\lucas\\conda_envs\\entorno_chatbot\\lib\\site-packages (from coloredlogs->onnxruntime>=1.14.1->chromadb) (10.0)\n",
      "Requirement already satisfied: pyreadline3 in d:\\lucas\\conda_envs\\entorno_chatbot\\lib\\site-packages (from humanfriendly>=9.1->coloredlogs->onnxruntime>=1.14.1->chromadb) (3.5.4)\n",
      "Requirement already satisfied: MarkupSafe>=2.0 in d:\\lucas\\conda_envs\\entorno_chatbot\\lib\\site-packages (from jinja2->torch>=1.11.0->sentence-transformers) (3.0.2)\n",
      "Requirement already satisfied: joblib>=1.2.0 in d:\\lucas\\conda_envs\\entorno_chatbot\\lib\\site-packages (from scikit-learn->sentence-transformers) (1.5.1)\n",
      "Requirement already satisfied: threadpoolctl>=3.1.0 in d:\\lucas\\conda_envs\\entorno_chatbot\\lib\\site-packages (from scikit-learn->sentence-transformers) (3.6.0)\n"
     ]
    }
   ],
   "source": [
    "#Instalación de las librerías (ejecutar solo la primera vez)\n",
    "import sys\n",
    "!{sys.executable} -m pip install --upgrade pip\n",
    "!{sys.executable} -m pip install PyPDF2 langchain sentence-transformers chromadb ollama"
   ]
  },
  {
   "cell_type": "code",
   "execution_count": 2,
   "id": "a1dda3ea-43cf-4b10-af45-156ad5f1fab5",
   "metadata": {},
   "outputs": [],
   "source": [
    "#Importamos las librerías\n",
    "\n",
    "from PyPDF2 import PdfReader\n",
    "from langchain.text_splitter import RecursiveCharacterTextSplitter\n",
    "from sentence_transformers import SentenceTransformer\n",
    "import chromadb\n",
    "import ollama\n"
   ]
  },
  {
   "cell_type": "code",
   "execution_count": 3,
   "id": "cb067df8-6e90-4899-90ad-14c6a8942bf3",
   "metadata": {},
   "outputs": [],
   "source": [
    "#Creamos la función que leerá el PDF\n",
    "def leer_pdf(ruta_pdf):    \n",
    "    reader = PdfReader(ruta_pdf)   # Abrimos el PDF\n",
    "    texto = \"\"\n",
    "    for pagina in reader.pages:     # Recorremos cada página\n",
    "        texto += pagina.extract_text() + \"\\n\"  # Extraemos texto y agregamos salto de línea\n",
    "    return texto\n"
   ]
  },
  {
   "cell_type": "code",
   "execution_count": 4,
   "id": "5d94637f-a4b4-415c-8195-87ec623ad116",
   "metadata": {},
   "outputs": [],
   "source": [
    "#Dividimos el texto en chunks\n",
    "\n",
    "def dividir_texto(texto, tamano=1000, solapamiento=100):\n",
    "    splitter = RecursiveCharacterTextSplitter(chunk_size=tamano, chunk_overlap=solapamiento)\n",
    "    chunks = splitter.split_text(texto)\n",
    "    return chunks\n",
    "\n"
   ]
  },
  {
   "cell_type": "code",
   "execution_count": 5,
   "id": "084a56c6-2a88-405c-b028-3b22273d91ea",
   "metadata": {},
   "outputs": [],
   "source": [
    "#Creamos los embeddings\n",
    "\n",
    "def crear_embeddings(chunks):\n",
    "    modelo = SentenceTransformer('all-MiniLM-L6-v2')  # rápido y ligero. Este modelo es el encargado de generar los embeddings\n",
    "    embeddings = modelo.encode(chunks)\n",
    "    return embeddings\n",
    "\n",
    "\n",
    "\n",
    "\n",
    "#Cada chunk se transforma en un vector que representa su significado.\n",
    "\n",
    "#Estos vectores permiten comparar semánticamente texto y consultas."
   ]
  },
  {
   "cell_type": "code",
   "execution_count": 6,
   "id": "02ace26b-edee-45c3-bad8-bc874e74e098",
   "metadata": {},
   "outputs": [],
   "source": [
    "#Guardamos los chunks de texto y los embeddings correspondientes a cada chunk en Chroma, una base vectorial\n",
    "\n",
    "def guardar_en_chroma(chunks, embeddings, nombre_coleccion=\"chatbot_educativo\"):\n",
    "    client = chromadb.Client()\n",
    "    \n",
    "    # Si la colección ya existe, borrarla primero\n",
    "    if nombre_coleccion in [col.name for col in client.list_collections()]:\n",
    "        client.delete_collection(nombre_coleccion)\n",
    "    \n",
    "    collection = client.create_collection(name=nombre_coleccion)\n",
    "    collection.add(\n",
    "        documents=chunks,\n",
    "        embeddings=embeddings,\n",
    "        ids=[str(i) for i in range(len(chunks))]\n",
    "    )\n",
    "    return collection\n",
    "\n",
    "#collection = guardar_en_chroma(chunks, embeddings) #la variable representa el almacenamiento de los chunks de texto y los embeddings correspondiente a cada chunk\n",
    "\n",
    "\n",
    "#client.list_collections() y delete_collection() evitan errores si la colección ya existía.\n",
    "\n",
    "#collection.add(...) guarda cada chunk con su embedding en la base vectorial.\n",
    "\n",
    "#Esto permite consultas por similitud después."
   ]
  },
  {
   "cell_type": "code",
   "execution_count": 7,
   "id": "ae1b2be8-1fd0-4211-927f-38f552cb61ac",
   "metadata": {},
   "outputs": [],
   "source": [
    "#Creamos la función que buscará los chunks similares a la pregunta del usuario\n",
    "\n",
    "def buscar_chunks_relevantes(collection, query, top_k=3):\n",
    "    modelo = SentenceTransformer('all-MiniLM-L6-v2')\n",
    "    query_embedding = modelo.encode([query])[0]\n",
    "    resultados = collection.query(\n",
    "        query_embeddings=[query_embedding],  # vector de la pregunta\n",
    "        n_results=top_k\n",
    "    )\n",
    "    # resultados['documents'] contiene los chunks más relevantes\n",
    "    return resultados['documents']\n"
   ]
  },
  {
   "cell_type": "code",
   "execution_count": 8,
   "id": "4bb02601-f0d4-46b0-9874-643d28f61ff5",
   "metadata": {},
   "outputs": [],
   "source": [
    "#Generar respuesta con Ollama\n",
    "\n",
    "\n",
    "def responder_con_ollama(chunks_relevantes, query):\n",
    "    # Unimos los chunks en un solo contexto\n",
    "    contexto = \"\\n\\n\".join([texto for grupo in chunks_relevantes for texto in grupo]) #chunks_relevantes representa la lista de chunks\n",
    "    \n",
    "    # Creamos la instancia del cliente Ollama\n",
    "    ollama_client = ollama.Client()\n",
    "    \n",
    "    # Llamamos al modelo\n",
    "    respuesta = ollama_client.chat(\n",
    "        model=\"gemma:7b-instruct\",\n",
    "        messages=[\n",
    "            {\"role\": \"system\", \"content\": \"\"\"Eres un asistente que responde preguntas basadas únicamente en el PDF proporcionado.\n",
    "                Reglas:\n",
    "                1. Responde siempre en español.\n",
    "                2. Si la información no está en el PDF, responde exactamente:\n",
    "                   \"No puedo responder con la información que tengo.\"\n",
    "                3. Nunca inventes información fuera del PDF.\n",
    "                \"\"\"\n",
    "            },            \n",
    "            {\"role\": \"user\", \"content\": f\"Contexto:\\n{contexto}\\n\\nPregunta: {query}\"} #La variable query representa la pregunta del usuario\n",
    "        ]\n",
    "    )\n",
    "    \n",
    "    # Extraemos solo el contenido del mensaje del asistente\n",
    "    try:\n",
    "        return respuesta[\"message\"][\"content\"]\n",
    "    except (AttributeError, KeyError, TypeError):\n",
    "        return str(respuesta)\n",
    "\n",
    "\n",
    "\n",
    "\n",
    "\n",
    "#Tomamos los chunks relevantes y se los damos al modelo de Ollama como contexto.\n",
    "\n",
    "#Ollama genera la respuesta en lenguaje natural.\n"
   ]
  },
  {
   "cell_type": "code",
   "execution_count": 16,
   "id": "bd7edf3d-7964-4898-945b-1428e3f60e66",
   "metadata": {},
   "outputs": [],
   "source": [
    "def conversar(collection):\n",
    "    print(\"Chatbot: ¡Hola! Puedo responder preguntas basándome en tu PDF. Escribí 'salir' para terminar.\\n\")\n",
    "    pregunta = input(\"Tú: \")\n",
    "    \n",
    "    while pregunta.lower() != \"salir\": #Si se escribe \"salir\" se finaliza la conversación con el chatbot\n",
    "        chunks_relevantes = buscar_chunks_relevantes(collection, pregunta) #Busca los chunks similares a la pregunta del usuario\n",
    "        respuesta = responder_con_ollama(chunks_relevantes, pregunta) #Ollama recibe los chunks relevantes y produce la respuesta\n",
    "        print(f\"CHATBOT: {respuesta}\\n\") #Se imprime la respuesta\n",
    "        pregunta = input(\"Tú: \") #Escribes la siguiente pregunta\n",
    "\n",
    "    print(\"Chatbot: ¡Hasta luego!\")\n"
   ]
  },
  {
   "cell_type": "code",
   "execution_count": 17,
   "id": "671966f1-dc06-4a0c-81f2-b2e9a46c269e",
   "metadata": {},
   "outputs": [
    {
     "name": "stdout",
     "output_type": "stream",
     "text": [
      "Chatbot: ¡Hola! Puedo responder preguntas basándome en tu PDF. Escribí 'salir' para terminar.\n",
      "\n"
     ]
    },
    {
     "name": "stdin",
     "output_type": "stream",
     "text": [
      "Tú:  Qué es el ciclo del agua?\n"
     ]
    },
    {
     "name": "stdout",
     "output_type": "stream",
     "text": [
      "CHATBOT: El ciclo del agua es el proceso natural mediante el cual el agua se move continuamente a través de la Tierra y la atmósfera. Este ciclo es fundamental para mantener la vida en el planeta, ya que permite la renovación y distribución del agua en diferentes lugares.\n",
      "\n"
     ]
    },
    {
     "name": "stdin",
     "output_type": "stream",
     "text": [
      "Tú:  Cuáles son las etapas del ciclo del agua? Explicame cada una de ellas\n"
     ]
    },
    {
     "name": "stdout",
     "output_type": "stream",
     "text": [
      "CHATBOT: **Etapas del ciclo del agua:**\n",
      "\n",
      "* **Evaporación:** El agua de los océanos, ríos, lagos y suelos se transforma en vapor debido al calor del sol y asciende a la atmósfera.\n",
      "\n",
      "\n",
      "* **Condensación:** El vapor de agua se enfría al subir y se convierte en pequeñas gotas, formando nubes.\n",
      "\n",
      "\n",
      "* **Precipitación:** Cuando las gotas de agua en las nubes se unen y aumentan de tamaño, caen a la superficie terrestre en forma de lluvia, nieve o granizo.\n",
      "\n",
      "\n",
      "* **Infiltración y escorrentía:** Una parte del agua se filtra en el suelo y recarga los acuíferos, mientras que otra circula sobre la superficie hacia ríos y mares.\n",
      "\n"
     ]
    },
    {
     "name": "stdin",
     "output_type": "stream",
     "text": [
      "Tú:  Cuál es la tasa de precipitación?\n"
     ]
    },
    {
     "name": "stdout",
     "output_type": "stream",
     "text": [
      "CHATBOT: La información sobre la tasa de precipitación no está contenida en el PDF proporcionado, por lo que no puedo responder esta pregunta.\n",
      "\n"
     ]
    },
    {
     "name": "stdin",
     "output_type": "stream",
     "text": [
      "Tú:  Salir\n"
     ]
    },
    {
     "name": "stdout",
     "output_type": "stream",
     "text": [
      "Chatbot: ¡Hasta luego!\n"
     ]
    }
   ],
   "source": [
    "# Ruta de tu PDF\n",
    "ruta_pdf = \"El_Ciclo_del_Agua.pdf\"\n",
    "\n",
    "# Leer PDF\n",
    "texto = leer_pdf(ruta_pdf)\n",
    "\n",
    "# Dividir en chunks\n",
    "chunks = dividir_texto(texto)\n",
    "\n",
    "# Crear embeddings\n",
    "embeddings = crear_embeddings(chunks)\n",
    "\n",
    "# Guardar en Chroma\n",
    "collection = guardar_en_chroma(chunks, embeddings)\n",
    "\n",
    "conversar(collection)\n"
   ]
  },
  {
   "cell_type": "code",
   "execution_count": null,
   "id": "e0207563-4666-4e7f-86aa-6f55c832af7a",
   "metadata": {},
   "outputs": [],
   "source": []
  },
  {
   "cell_type": "code",
   "execution_count": null,
   "id": "adef07d3-3a67-4e83-9817-eb697bdc48e9",
   "metadata": {},
   "outputs": [],
   "source": []
  },
  {
   "cell_type": "code",
   "execution_count": null,
   "id": "1edac276-8765-4286-9847-7f1128891ff7",
   "metadata": {},
   "outputs": [],
   "source": []
  }
 ],
 "metadata": {
  "kernelspec": {
   "display_name": "Python (entorno_chatbot)",
   "language": "python",
   "name": "entorno_chatbot"
  },
  "language_info": {
   "codemirror_mode": {
    "name": "ipython",
    "version": 3
   },
   "file_extension": ".py",
   "mimetype": "text/x-python",
   "name": "python",
   "nbconvert_exporter": "python",
   "pygments_lexer": "ipython3",
   "version": "3.10.18"
  }
 },
 "nbformat": 4,
 "nbformat_minor": 5
}
